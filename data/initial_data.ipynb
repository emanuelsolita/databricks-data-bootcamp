{
 "cells": [
  {
   "cell_type": "code",
   "execution_count": 0,
   "metadata": {
    "application/vnd.databricks.v1+cell": {
     "cellMetadata": {
      "byteLimit": 2048000,
      "rowLimit": 10000
     },
     "inputWidgets": {},
     "nuid": "88a64781-1159-4cc4-8861-2f05c7cc879e",
     "showTitle": false,
     "tableResultSettingsMap": {},
     "title": ""
    }
   },
   "outputs": [],
   "source": [
    "import numpy as np\n",
    "import pandas as pd\n",
    "from databricks.sdk import WorkspaceClient\n",
    "w = WorkspaceClient()"
   ]
  },
  {
   "cell_type": "code",
   "execution_count": 0,
   "metadata": {
    "application/vnd.databricks.v1+cell": {
     "cellMetadata": {
      "byteLimit": 2048000,
      "rowLimit": 10000
     },
     "inputWidgets": {},
     "nuid": "08cee047-8a57-4512-b88f-0c1b6b902546",
     "showTitle": false,
     "tableResultSettingsMap": {},
     "title": ""
    }
   },
   "outputs": [],
   "source": [
    "ext_loc_url = w.external_locations.get(\"emhollanding\").url"
   ]
  },
  {
   "cell_type": "markdown",
   "metadata": {
    "application/vnd.databricks.v1+cell": {
     "cellMetadata": {
      "byteLimit": 2048000,
      "rowLimit": 10000
     },
     "inputWidgets": {},
     "nuid": "55778ee8-0b99-4f9b-b429-6de6556c4764",
     "showTitle": false,
     "tableResultSettingsMap": {},
     "title": ""
    }
   },
   "source": [
    "Trasnactional data for products sold in stores, simulated IoT stream.\n",
    "\n",
    "Attributes: \n",
    "```\n",
    "id: unique transaction id\n",
    "product_id: unique product id\n",
    "customer_id: unique customer id\n",
    "store_id: unique store id\n",
    "receipt_id: unique receipt id, collection of products in a store done by a customer at one time\n",
    "transaction_date: date of transaction\n",
    "transaction_amount: price per product\n",
    "```"
   ]
  },
  {
   "cell_type": "markdown",
   "metadata": {
    "application/vnd.databricks.v1+cell": {
     "cellMetadata": {
      "byteLimit": 2048000,
      "rowLimit": 10000
     },
     "inputWidgets": {},
     "nuid": "fc8d6432-83a2-4abd-806f-b3ac67663613",
     "showTitle": false,
     "tableResultSettingsMap": {},
     "title": ""
    }
   },
   "source": [
    "Each receipt is dumped as a json to blob. A receipt can contain one or multiple transactions"
   ]
  },
  {
   "cell_type": "code",
   "execution_count": 0,
   "metadata": {
    "application/vnd.databricks.v1+cell": {
     "cellMetadata": {
      "byteLimit": 2048000,
      "rowLimit": 10000
     },
     "inputWidgets": {},
     "nuid": "c9321ed4-5829-492e-813a-65ba0b5f1810",
     "showTitle": false,
     "tableResultSettingsMap": {},
     "title": ""
    }
   },
   "outputs": [],
   "source": [
    "from pyspark.sql import SparkSession\n",
    "from pyspark.sql.functions import col, lit, rand, expr\n",
    "import uuid\n",
    "from datetime import datetime, timedelta\n",
    "import random\n",
    "\n",
    "# Function to generate random date\n",
    "start_date = datetime(2024, 1, 1)\n",
    "end_date = datetime(2025, 3, 10)\n",
    "def random_date():\n",
    "    return start_date + timedelta(days=random.randint(0, (end_date - start_date).days))\n",
    "\n",
    "# Generate 50,000 rows\n",
    "data = [\n",
    "    (\n",
    "        str(uuid.uuid4()),  # transaction_id\n",
    "        random.randint(1, 150),  # product_id\n",
    "        random.randint(1, 100),  # customer_id\n",
    "        random.randint(1, 10),  # store_id\n",
    "        random.randint(1000, 9999),  # receipt_id\n",
    "        random_date().strftime(\"%Y-%m-%d\"),  # transaction_date\n",
    "        round(random.uniform(5, 500), 2)  # transaction_amount\n",
    "    )\n",
    "    for _ in range(50000)\n",
    "]\n",
    "\n",
    "# Define schema and create DataFrame\n",
    "columns = [\"id\", \"product_id\", \"customer_id\", \"store_id\", \"receipt_id\", \"transaction_date\", \"transaction_amount\"]\n",
    "df = spark.createDataFrame(data, columns)\n"
   ]
  },
  {
   "cell_type": "code",
   "execution_count": 0,
   "metadata": {
    "application/vnd.databricks.v1+cell": {
     "cellMetadata": {
      "byteLimit": 2048000,
      "rowLimit": 10000
     },
     "inputWidgets": {},
     "nuid": "941b008e-e5f3-4ea8-a142-fa03ebc9d837",
     "showTitle": false,
     "tableResultSettingsMap": {},
     "title": ""
    }
   },
   "outputs": [],
   "source": [
    "df.display()"
   ]
  },
  {
   "cell_type": "code",
   "execution_count": 0,
   "metadata": {
    "application/vnd.databricks.v1+cell": {
     "cellMetadata": {
      "byteLimit": 2048000,
      "rowLimit": 10000
     },
     "inputWidgets": {},
     "nuid": "2d1bde8e-e41d-45b1-ae07-f9b01a00ceee",
     "showTitle": false,
     "tableResultSettingsMap": {},
     "title": ""
    }
   },
   "outputs": [],
   "source": [
    "print(df.select(\"product_id\").distinct().count(),\n",
    "df.select(\"customer_id\").distinct().count(),\n",
    "df.select(\"store_id\").distinct().count(),\n",
    "df.select(\"receipt_id\").distinct().count())"
   ]
  },
  {
   "cell_type": "code",
   "execution_count": 0,
   "metadata": {
    "application/vnd.databricks.v1+cell": {
     "cellMetadata": {
      "byteLimit": 2048000,
      "rowLimit": 10000
     },
     "inputWidgets": {},
     "nuid": "b9d15ae7-7934-4143-b98a-2a2a942f462b",
     "showTitle": false,
     "tableResultSettingsMap": {},
     "title": ""
    }
   },
   "outputs": [],
   "source": [
    "df.groupBy(\"receipt_id\").count().display()"
   ]
  },
  {
   "cell_type": "code",
   "execution_count": 0,
   "metadata": {
    "application/vnd.databricks.v1+cell": {
     "cellMetadata": {
      "byteLimit": 2048000,
      "rowLimit": 10000
     },
     "inputWidgets": {},
     "nuid": "36a25783-6b57-4044-b6ff-99aa206c948b",
     "showTitle": false,
     "tableResultSettingsMap": {},
     "title": ""
    }
   },
   "outputs": [],
   "source": [
    "df.write.mode(\"overwrite\").format(\"json\").option(\"partitionBy\", \"transaction_date\").save(f\"{ext_loc_url}/bootcamp/iot_stream/\")"
   ]
  },
  {
   "cell_type": "markdown",
   "metadata": {
    "application/vnd.databricks.v1+cell": {
     "cellMetadata": {
      "byteLimit": 2048000,
      "rowLimit": 10000
     },
     "inputWidgets": {},
     "nuid": "a27a280f-3b1a-44f9-a679-c5ea22afc8f6",
     "showTitle": false,
     "tableResultSettingsMap": {},
     "title": ""
    }
   },
   "source": [
    "Create a product dimension with attributes:\n",
    "```\n",
    "id: unique product id\n",
    "product_name: Product name\n",
    "product_description: Product description\n",
    "date: date when added\n",
    "```"
   ]
  },
  {
   "cell_type": "code",
   "execution_count": 0,
   "metadata": {
    "application/vnd.databricks.v1+cell": {
     "cellMetadata": {
      "byteLimit": 2048000,
      "rowLimit": 10000
     },
     "inputWidgets": {},
     "nuid": "0b35554d-b810-46a2-9efd-3478cec8e411",
     "showTitle": false,
     "tableResultSettingsMap": {},
     "title": ""
    }
   },
   "outputs": [],
   "source": [
    "# Sample product categories and descriptions\n",
    "product_categories = [\n",
    "    (\"Smartphone\", \"Latest model with high-resolution display and fast processor\"),\n",
    "    (\"Laptop\", \"Lightweight and powerful laptop for professionals\"),\n",
    "    (\"Wireless Earbuds\", \"Noise-canceling earbuds with long battery life\"),\n",
    "    (\"Smartwatch\", \"Fitness tracking smartwatch with heart rate monitor\"),\n",
    "    (\"Blender\", \"High-speed blender perfect for smoothies and soups\"),\n",
    "    (\"Coffee Maker\", \"Programmable coffee maker with built-in grinder\"),\n",
    "    (\"Vacuum Cleaner\", \"Cordless vacuum cleaner with powerful suction\"),\n",
    "    (\"Air Fryer\", \"Oil-free cooking with crispy results\"),\n",
    "    (\"Gaming Console\", \"Next-gen console with stunning graphics\"),\n",
    "    (\"Desk Chair\", \"Ergonomic office chair with lumbar support\"),\n",
    "    (\"LED TV\", \"Ultra HD smart TV with vibrant colors\"),\n",
    "    (\"Wireless Speaker\", \"Portable speaker with deep bass and 360° sound\"),\n",
    "    (\"Tablet\", \"Compact tablet for entertainment and productivity\"),\n",
    "    (\"Running Shoes\", \"Lightweight and breathable running shoes\"),\n",
    "    (\"Backpack\", \"Water-resistant backpack with multiple compartments\"),\n",
    "    (\"Sunglasses\", \"Polarized sunglasses with UV protection\"),\n",
    "    (\"Yoga Mat\", \"Non-slip yoga mat with extra cushioning\"),\n",
    "    (\"Cookware Set\", \"Durable non-stick cookware set for all your needs\"),\n",
    "    (\"Hair Dryer\", \"Fast-drying hair dryer with adjustable heat settings\"),\n",
    "    (\"Electric Toothbrush\", \"Smart toothbrush with multiple brushing modes\")\n",
    "]\n",
    "\n",
    "# Function to generate random date\n",
    "start_date = datetime(2023, 1, 1)\n",
    "end_date = datetime(2025, 3, 10)\n",
    "def random_date():\n",
    "    return start_date + timedelta(days=random.randint(0, (end_date - start_date).days))\n",
    "\n",
    "# Generate 150 products with variations\n",
    "data = []\n",
    "for i in range(150):\n",
    "    category, description = random.choice(product_categories)\n",
    "    product_name = f\"{category} Model {random.randint(100, 999)}\"\n",
    "    data.append((\n",
    "        i,  # unique product_id\n",
    "        product_name,\n",
    "        category,\n",
    "        f\"{description}. Model {random.randint(1, 10)} with enhanced features.\",\n",
    "        random_date().strftime(\"%Y-%m-%d\")  # date added\n",
    "    ))\n",
    "\n",
    "data += data\n",
    "# Define schema and create DataFrame\n",
    "columns = [\"id\", \"product_name\", \"product_category\",\"product_description\", \"date\"]\n",
    "df_prod = spark.createDataFrame(data, columns)"
   ]
  },
  {
   "cell_type": "code",
   "execution_count": 0,
   "metadata": {
    "application/vnd.databricks.v1+cell": {
     "cellMetadata": {
      "byteLimit": 2048000,
      "rowLimit": 10000
     },
     "inputWidgets": {},
     "nuid": "4d28b7d3-be4c-4290-9c02-fcf87470ac88",
     "showTitle": false,
     "tableResultSettingsMap": {},
     "title": ""
    }
   },
   "outputs": [],
   "source": [
    "df_prod.display()"
   ]
  },
  {
   "cell_type": "code",
   "execution_count": 0,
   "metadata": {
    "application/vnd.databricks.v1+cell": {
     "cellMetadata": {
      "byteLimit": 2048000,
      "rowLimit": 10000
     },
     "inputWidgets": {},
     "nuid": "b68d22c4-0fa6-46b8-a979-ad9ab277b6f9",
     "showTitle": false,
     "tableResultSettingsMap": {},
     "title": ""
    }
   },
   "outputs": [],
   "source": [
    "df_prod.write.mode(\"overwrite\").format(\"json\").option(\"partitionBy\", \"date\").save(f\"{ext_loc_url}/bootcamp/products/\")"
   ]
  },
  {
   "cell_type": "markdown",
   "metadata": {
    "application/vnd.databricks.v1+cell": {
     "cellMetadata": {
      "byteLimit": 2048000,
      "rowLimit": 10000
     },
     "inputWidgets": {},
     "nuid": "81d93f84-b9c6-414b-8753-80889b52ec3b",
     "showTitle": false,
     "tableResultSettingsMap": {},
     "title": ""
    }
   },
   "source": [
    "Create a customer dimension with attributes:\n",
    "```\n",
    "id: unique customer id\n",
    "customer_name: Customer name\n",
    "gender: Customer gender\n",
    "address: Customer address\n",
    "date: date when added\n",
    "```"
   ]
  },
  {
   "cell_type": "code",
   "execution_count": 0,
   "metadata": {
    "application/vnd.databricks.v1+cell": {
     "cellMetadata": {
      "byteLimit": 2048000,
      "rowLimit": 10000
     },
     "inputWidgets": {},
     "nuid": "42f5e692-a374-408a-a392-d1088745d2ee",
     "showTitle": false,
     "tableResultSettingsMap": {},
     "title": ""
    }
   },
   "outputs": [],
   "source": [
    "# Sample customer names and addresses\n",
    "male_customers = [\n",
    "    \"Bob Smith\", \"Charlie Davis\", \"Ethan Wright\", \"George Harris\", \"Ian Clark\",\n",
    "    \"Kevin Hall\", \"Michael Scott\", \"Oscar Turner\", \"Samuel Rogers\", \"Thomas Alexander\",\n",
    "    \"Walter Murphy\", \"Xavier Reed\", \"Zachary Barnes\", \"Brian Gibson\", \"David Simmons\",\n",
    "    \"Franklin Mitchell\", \"Henry Sanders\", \"Jack Coleman\", \"Liam Morris\", \"Noah Edwards\",\n",
    "    \"Peter Clark\", \"Robert Jenkins\", \"Vincent Hayes\", \"William Parker\", \"Yusuf Holmes\",\n",
    "    \"Adrian Fletcher\", \"Caleb Douglas\", \"Elliot Cooper\", \"Gordon Stewart\", \"Isaac Baldwin\",\n",
    "    \"Kyle Armstrong\", \"Mason Barrett\", \"Owen Simpson\", \"Patrick Weaver\", \"Quincy Bennett\",\n",
    "    \"Riley Hayes\", \"Travis Dunn\", \"Victor Patterson\"\n",
    "]\n",
    "\n",
    "female_customers = [\n",
    "    \"Alice Johnson\", \"Diana Evans\", \"Fiona Green\", \"Hannah Lewis\", \"Julia Baker\",\n",
    "    \"Laura Adams\", \"Nina Brooks\", \"Paula Carter\", \"Rachel Hughes\", \"Tina Perry\",\n",
    "    \"Victoria Howard\", \"Yasmine Cooper\", \"Amy Fisher\", \"Catherine Nelson\", \"Emma Ward\",\n",
    "    \"Grace Elliott\", \"Isla Bryant\", \"Kylie Ross\", \"Mia Powell\", \"Olivia Hughes\",\n",
    "    \"Queenie Stewart\", \"Sophia Foster\", \"Talia Murray\", \"Vera Gardner\", \"Willow Bennett\",\n",
    "    \"Xena Baldwin\", \"Zoe Carr\", \"Bethany Stone\", \"Daisy Franklin\", \"Faith Matthews\",\n",
    "    \"Hailey Clarke\", \"Jasmine Reid\", \"Lydia Fox\", \"Madeline Curtis\", \"Natalie Owens\",\n",
    "    \"Penelope Carter\", \"Savannah Mitchell\", \"Ursula Lambert\"\n",
    "]\n",
    "\n",
    "addresses = [\n",
    "    \"123 Elm St, Springfield\", \"456 Oak Ave, Riverside\", \"789 Pine Rd, Lincoln\",\n",
    "    \"101 Maple Blvd, Franklin\", \"202 Cedar Ln, Shelbyville\", \"303 Birch St, Madison\",\n",
    "    \"404 Walnut Dr, Auburn\", \"505 Aspen Ct, Brookfield\", \"606 Cherry Cir, Lexington\",\n",
    "    \"707 Magnolia Pl, Hamilton\"\n",
    "]\n",
    "\n",
    "genders = [\"Male\", \"Female\", \"Non-Binary\"]\n",
    "\n",
    "# Function to generate random date\n",
    "start_date = datetime(2023, 1, 1)\n",
    "end_date = datetime(2025, 3, 10)\n",
    "def random_date():\n",
    "    return start_date + timedelta(days=random.randint(0, (end_date - start_date).days))\n",
    "\n",
    "data = []\n",
    "# Generate 100 customers\n",
    "for i in range(50):\n",
    "    male_name = random.choice(male_customers)\n",
    "    female_name = random.choice(female_customers)\n",
    "    data.append((\n",
    "        i*2+1, male_name, \"Male\", random.choice(addresses), random.randint(18, 100), random_date().strftime(\"%Y-%m-%d\")\n",
    "    ))\n",
    "    data.append((\n",
    "        i*2+2, female_name, \"Female\", random.choice(addresses), random.randint(18, 100), random_date().strftime(\"%Y-%m-%d\")\n",
    "    ))\n",
    "\n",
    "data += data\n",
    "# Define schema and create DataFrame\n",
    "columns = [\"id\", \"customer_name\", \"gender\", \"address\", \"age\", \"date\"]\n",
    "df_cust = spark.createDataFrame(data, columns)"
   ]
  },
  {
   "cell_type": "code",
   "execution_count": 0,
   "metadata": {
    "application/vnd.databricks.v1+cell": {
     "cellMetadata": {
      "byteLimit": 2048000,
      "rowLimit": 10000
     },
     "inputWidgets": {},
     "nuid": "19897318-cf0b-4342-986a-1c75b417ea96",
     "showTitle": false,
     "tableResultSettingsMap": {},
     "title": ""
    }
   },
   "outputs": [],
   "source": [
    "df_cust.display()"
   ]
  },
  {
   "cell_type": "code",
   "execution_count": 0,
   "metadata": {
    "application/vnd.databricks.v1+cell": {
     "cellMetadata": {
      "byteLimit": 2048000,
      "rowLimit": 10000
     },
     "inputWidgets": {},
     "nuid": "7f06f4b2-e1af-4c48-9205-af9b0dcd38c1",
     "showTitle": false,
     "tableResultSettingsMap": {},
     "title": ""
    }
   },
   "outputs": [],
   "source": [
    "df_cust.write.mode(\"overwrite\").format(\"json\").option(\"partitionBy\", \"date\").save(f\"{ext_loc_url}/bootcamp/customers/\")"
   ]
  },
  {
   "cell_type": "markdown",
   "metadata": {
    "application/vnd.databricks.v1+cell": {
     "cellMetadata": {
      "byteLimit": 2048000,
      "rowLimit": 10000
     },
     "inputWidgets": {},
     "nuid": "c4688b94-bda6-4005-a9c3-1b7436fa47e9",
     "showTitle": false,
     "tableResultSettingsMap": {},
     "title": ""
    }
   },
   "source": [
    "Create a store dimension with attributes:\n",
    "```\n",
    "id: unique store id\n",
    "store_name: Store name\n",
    "address: Store address\n",
    "city: City location\n",
    "date: date when added\n",
    "```"
   ]
  },
  {
   "cell_type": "code",
   "execution_count": 0,
   "metadata": {
    "application/vnd.databricks.v1+cell": {
     "cellMetadata": {
      "byteLimit": 2048000,
      "rowLimit": 10000
     },
     "inputWidgets": {},
     "nuid": "46480fc2-2b33-46c9-ae54-65ca37934298",
     "showTitle": false,
     "tableResultSettingsMap": {},
     "title": ""
    }
   },
   "outputs": [],
   "source": [
    "# Sample store names and addresses\n",
    "store_names = [\n",
    "    \"SuperMart\", \"QuickShop\", \"MegaStore\", \"ValueMart\", \"ShopEase\",\n",
    "    \"DailyNeeds\", \"ExpressMart\", \"BudgetBazaar\", \"HyperMart\", \"RetailHub\"\n",
    "]\n",
    "\n",
    "addresses = [\n",
    "    \"101 Main St\", \"202 Oak Ave\", \"303 Pine Rd\", \"404 Maple Blvd\", \"505 Cedar Ln\",\n",
    "    \"606 Birch St\", \"707 Walnut Dr\", \"808 Aspen Ct\", \"909 Cherry Cir\", \"100 Elm St\"\n",
    "]\n",
    "\n",
    "cities = [\n",
    "    \"Springfield\", \"Riverside\", \"Lincoln\", \"Franklin\", \"Shelbyville\",\n",
    "    \"Madison\", \"Auburn\", \"Brookfield\", \"Lexington\", \"Hamilton\"\n",
    "]\n",
    "\n",
    "# Function to generate random date\n",
    "start_date = datetime(2023, 1, 1)\n",
    "end_date = datetime(2025, 3, 10)\n",
    "def random_date():\n",
    "    return start_date + timedelta(days=random.randint(0, (end_date - start_date).days))\n",
    "\n",
    "# Generate 10 stores\n",
    "data = [\n",
    "    (\n",
    "        i+1,  # unique store_id\n",
    "        store_names[i],\n",
    "        addresses[i],\n",
    "        cities[i],\n",
    "        random_date().strftime(\"%Y-%m-%d\")  # date added\n",
    "    )\n",
    "    for i in range(10)\n",
    "]\n",
    "data += data\n",
    "# Define schema and create DataFrame\n",
    "columns = [\"id\", \"store_name\", \"address\", \"city\", \"date\"]\n",
    "df_store = spark.createDataFrame(data, columns)"
   ]
  },
  {
   "cell_type": "code",
   "execution_count": 0,
   "metadata": {
    "application/vnd.databricks.v1+cell": {
     "cellMetadata": {
      "byteLimit": 2048000,
      "rowLimit": 10000
     },
     "inputWidgets": {},
     "nuid": "b330c9f8-a89e-4313-9794-ff6f33d02e98",
     "showTitle": false,
     "tableResultSettingsMap": {},
     "title": ""
    }
   },
   "outputs": [],
   "source": [
    "df_store.display()"
   ]
  },
  {
   "cell_type": "code",
   "execution_count": 0,
   "metadata": {
    "application/vnd.databricks.v1+cell": {
     "cellMetadata": {
      "byteLimit": 2048000,
      "rowLimit": 10000
     },
     "inputWidgets": {},
     "nuid": "ae65a291-43ec-4de0-93c6-168a70715231",
     "showTitle": false,
     "tableResultSettingsMap": {},
     "title": ""
    }
   },
   "outputs": [],
   "source": [
    "df_store.write.mode(\"overwrite\").format(\"json\").option(\"partitionBy\", \"date\").save(f\"{ext_loc_url}/bootcamp/stores/\")"
   ]
  }
 ],
 "metadata": {
  "application/vnd.databricks.v1+notebook": {
   "computePreferences": null,
   "dashboards": [],
   "environmentMetadata": {
    "base_environment": "",
    "environment_version": "2"
   },
   "language": "python",
   "notebookMetadata": {
    "pythonIndentUnit": 4
   },
   "notebookName": "initial_data",
   "widgets": {}
  },
  "language_info": {
   "name": "python"
  }
 },
 "nbformat": 4,
 "nbformat_minor": 0
}
